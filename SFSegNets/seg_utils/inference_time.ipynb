{
 "cells": [
  {
   "cell_type": "code",
   "execution_count": 1,
   "metadata": {},
   "outputs": [],
   "source": [
    "import os\n",
    "import glob\n",
    "from PIL import Image\n",
    "import matplotlib.pyplot as plt\n",
    "import torch\n",
    "from torchvision import transforms\n",
    "import time"
   ]
  },
  {
   "cell_type": "code",
   "execution_count": 2,
   "metadata": {},
   "outputs": [
    {
     "name": "stdout",
     "output_type": "stream",
     "text": [
      "Number of directories: 0\n",
      "Number of files: 77\n"
     ]
    },
    {
     "data": {
      "text/plain": [
       "['data/DN8~06_27_02\\\\F001-0001.jpg',\n",
       " 'data/DN8~06_27_02\\\\F001-0002.jpg',\n",
       " 'data/DN8~06_27_02\\\\F001-0003.jpg']"
      ]
     },
     "execution_count": 2,
     "metadata": {},
     "output_type": "execute_result"
    }
   ],
   "source": [
    "def count_files_and_dirs(path):\n",
    "    # Get all directories in the specified path\n",
    "    dir_count = len([name for name in os.listdir(path) if os.path.isdir(os.path.join(path, name))])\n",
    "\n",
    "    # Get all files in the specified path and its subdirectories\n",
    "    file_count = len(glob.glob(path + '**/*', recursive=True)) - dir_count\n",
    "\n",
    "    return dir_count, file_count\n",
    "\n",
    "def get_files(path):\n",
    "    path_dir = glob.glob(path + '**/*.jpg', recursive=True)\n",
    "\n",
    "    return path_dir\n",
    "dir_count, file_count = count_files_and_dirs('data/DN8~06_27_02/')\n",
    "img_dir = get_files('data/DN8~06_27_02/')\n",
    "print(\"Number of directories:\", dir_count)\n",
    "print(\"Number of files:\", file_count)\n",
    "\n",
    "img_dir[:3]"
   ]
  },
  {
   "cell_type": "code",
   "execution_count": null,
   "metadata": {},
   "outputs": [],
   "source": [
    "# Initialize lists to store image width and height\n",
    "img_widths = []\n",
    "img_heights = []\n",
    "\n",
    "for img_path in img_dir:\n",
    "    img = Image.open(img_path)\n",
    "    width, height = img.size\n",
    "    img_widths.append(width)\n",
    "    img_heights.append(height)\n",
    "\n",
    "# Plotting\n",
    "plt.figure(figsize=(10, 5))\n",
    "\n",
    "plt.subplot(1, 2, 1)\n",
    "plt.hist(img_widths, bins=20, color='blue', edgecolor='black')\n",
    "plt.title('Image Widths')\n",
    "plt.xlabel('Width')\n",
    "plt.ylabel('Count')\n",
    "\n",
    "plt.subplot(1, 2, 2)\n",
    "plt.hist(img_heights, bins=20, color='blue', edgecolor='black')\n",
    "plt.title('Image Heights')\n",
    "plt.xlabel('Height')\n",
    "plt.ylabel('Count')\n",
    "\n",
    "plt.tight_layout()\n",
    "plt.show()"
   ]
  },
  {
   "cell_type": "code",
   "execution_count": 3,
   "metadata": {},
   "outputs": [
    {
     "data": {
      "text/plain": [
       "77"
      ]
     },
     "execution_count": 3,
     "metadata": {},
     "output_type": "execute_result"
    }
   ],
   "source": [
    "len(img_dir)"
   ]
  },
  {
   "cell_type": "code",
   "execution_count": 12,
   "metadata": {},
   "outputs": [],
   "source": [
    "from tqdm import tqdm\n",
    "\n",
    "def compute_latency_ms_pytorch(model, input_size, iterations=None, device=None):\n",
    "    torch.backends.cudnn.enabled = True\n",
    "    torch.backends.cudnn.benchmark = True\n",
    "\n",
    "    model.eval()\n",
    "    # model = model.cpu()\n",
    "    # input = torch.randn(*input_size)\n",
    "    model = model.cuda()\n",
    "    input = torch.randn(*input_size).cuda()\n",
    "\n",
    "    with torch.no_grad():\n",
    "        if iterations is None:\n",
    "            elapsed_time = 0\n",
    "            iterations = 100\n",
    "            while elapsed_time < 1:\n",
    "                torch.cuda.synchronize()\n",
    "                torch.cuda.synchronize()\n",
    "                t_start = time.time()\n",
    "                for _ in range(iterations):\n",
    "                    model(input)\n",
    "                torch.cuda.synchronize()\n",
    "                torch.cuda.synchronize()\n",
    "                elapsed_time = time.time() - t_start\n",
    "                iterations *= 2\n",
    "            FPS = iterations / elapsed_time\n",
    "            iterations = int(FPS * 6)\n",
    "\n",
    "        print('=========Speed Testing=========')\n",
    "        torch.cuda.synchronize()\n",
    "        torch.cuda.synchronize()\n",
    "        model(input)\n",
    "        t_start = time.time()\n",
    "        for _ in tqdm(range(iterations)):\n",
    "            model(input)\n",
    "        torch.cuda.synchronize()\n",
    "        torch.cuda.synchronize()\n",
    "        elapsed_time = time.time() - t_start    # μs ()\n",
    "        latency = elapsed_time / iterations * 1000\n",
    "    torch.cuda.empty_cache()\n",
    "    # FPS = 1000 / latency (in ms)\n",
    "    return latency"
   ]
  },
  {
   "cell_type": "code",
   "execution_count": null,
   "metadata": {},
   "outputs": [],
   "source": [
    "import numpy as np\n",
    "import random\n",
    "# Load a pretrained DeepLabv3 model\n",
    "device = torch.device(\"cuda:0\" if torch.cuda.is_available() else \"cpu\")\n",
    "\n",
    "model = torch.hub.load('pytorch/vision:v0.9.0', 'deeplabv3_resnet101', pretrained=True)\n",
    "model.to(device)\n",
    "model.eval()\n",
    "\n",
    "latency_list = []\n",
    "fps_list = []\n",
    "\n",
    "# 492 658\n",
    "# 512 672\n",
    "# Load an image\n",
    "inputDimension = (1, 3, 512, 672)\n",
    "\n",
    "numbers = list(range(1, 12346))  # 1부터 12345까지의 숫자 리스트 생성\n",
    "random_numbers = random.sample(numbers, 77)  # 리스트에서 10개의 무작위 숫자 추출\n",
    "\n",
    "for seed in random_numbers:\n",
    "    random.seed(seed)\n",
    "    np.random.seed(seed)\n",
    "    torch.manual_seed(seed)\n",
    "    torch.cuda.manual_seed_all(seed)\n",
    "    if torch.cuda.is_available():\n",
    "        torch.cuda.manual_seed(seed)\n",
    "\n",
    "    latency = compute_latency_ms_pytorch(model, inputDimension, iterations=1)\n",
    "    latency_list.append(latency)\n",
    "    fps_list.append((1000./latency))\n",
    "\n",
    "    methodName = 'DeepLabv3+'\n",
    "    print(\"{} FPS:{:.2f}\".format(methodName, (1000./latency)))\n",
    "    print(\"{} Latency:{:.2f}ms / {:.4f}s\".format(methodName, latency, (latency/1000.)))\n",
    "\n",
    "avg_latency = np.average(latency_list)\n",
    "std_latency = np.std(latency_list)\n",
    "avg_fps = np.average(fps_list)\n",
    "std_fps = np.std(fps_list)"
   ]
  },
  {
   "cell_type": "code",
   "execution_count": 26,
   "metadata": {},
   "outputs": [
    {
     "name": "stdout",
     "output_type": "stream",
     "text": [
      "99.92103783083168\n",
      "1.9597177354868087\n",
      "10.011849941273365\n",
      "0.2014243771636844\n"
     ]
    },
    {
     "data": {
      "text/plain": [
       "2310"
      ]
     },
     "execution_count": 26,
     "metadata": {},
     "output_type": "execute_result"
    }
   ],
   "source": [
    "print(avg_latency)\n",
    "print(std_latency)\n",
    "print(avg_fps)\n",
    "print(std_fps)\n",
    "len(latency_list)"
   ]
  },
  {
   "cell_type": "code",
   "execution_count": 22,
   "metadata": {},
   "outputs": [
    {
     "name": "stdout",
     "output_type": "stream",
     "text": [
      "99.22541271556507\n",
      "1.9728992563723315\n",
      "10.082169947142576\n",
      "0.20660599523355105\n"
     ]
    }
   ],
   "source": [
    "print(avg_latency)\n",
    "print(std_latency)\n",
    "print(avg_fps)\n",
    "print(std_fps)"
   ]
  },
  {
   "cell_type": "code",
   "execution_count": 11,
   "metadata": {},
   "outputs": [
    {
     "name": "stdout",
     "output_type": "stream",
     "text": [
      "54.46811940246847\n",
      "0.35450331551744835\n",
      "18.36014026829725\n",
      "0.11936039713668381\n"
     ]
    }
   ],
   "source": [
    "std_fps = np.std(fps_list)\n",
    "print(avg_latency)\n",
    "print(std_latency)\n",
    "print(avg_fps)\n",
    "print(std_fps)"
   ]
  }
 ],
 "metadata": {
  "kernelspec": {
   "display_name": "mas",
   "language": "python",
   "name": "python3"
  },
  "language_info": {
   "codemirror_mode": {
    "name": "ipython",
    "version": 3
   },
   "file_extension": ".py",
   "mimetype": "text/x-python",
   "name": "python",
   "nbconvert_exporter": "python",
   "pygments_lexer": "ipython3",
   "version": "3.8.5"
  },
  "orig_nbformat": 4
 },
 "nbformat": 4,
 "nbformat_minor": 2
}
