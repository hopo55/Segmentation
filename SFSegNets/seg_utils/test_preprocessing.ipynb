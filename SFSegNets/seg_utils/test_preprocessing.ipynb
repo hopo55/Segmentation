{
 "cells": [
  {
   "cell_type": "code",
   "execution_count": 738,
   "metadata": {},
   "outputs": [],
   "source": [
    "import os\n",
    "import cv2\n",
    "import glob\n",
    "import numpy as np"
   ]
  },
  {
   "cell_type": "code",
   "execution_count": 739,
   "metadata": {},
   "outputs": [],
   "source": [
    "def find_green_boxes(image, color):\n",
    "    # 이미지를 HSV 색 공간으로 변환\n",
    "    hsv = cv2.cvtColor(image, cv2.COLOR_BGR2HSV)\n",
    "    # hsv = cv2.cvtColor(image, cv2.COLOR_BGR2RGB)\n",
    "\n",
    "    lower_color = color[0]\n",
    "    upper_color = color[1]\n",
    "\n",
    "    # 색 경계를 찾기 위한 마스크 생성\n",
    "    mask = cv2.inRange(hsv, lower_color, upper_color)\n",
    "\n",
    "    # 마스크를 이용하여 색 영역 추출\n",
    "    green_area = cv2.bitwise_and(image, image, mask=mask)\n",
    "\n",
    "    # 색 영역의 경계 좌표를 찾음\n",
    "    contours, _ = cv2.findContours(mask, cv2.RETR_EXTERNAL, cv2.CHAIN_APPROX_SIMPLE)\n",
    "\n",
    "    ct_list = []\n",
    "    # element_counts = []\n",
    "    for ct in contours:\n",
    "        ct_shape = np.array(ct).shape[0]\n",
    "        print(ct_shape)\n",
    "        # if ct_shape > 200 and ct_shape < 300:\n",
    "        if ct_shape > 50 and ct_shape < 200:\n",
    "            ct_list.extend(ct)\n",
    "\n",
    "    # print(element_counts)\n",
    "    # max_ct = np.argmax(element_counts)\n",
    "    ct_list = np.array(ct_list)\n",
    "\n",
    "    # 색 영역 경계를 기반으로 이미지를 자름\n",
    "    # x, y, w, h = cv2.boundingRect(contours[max_ct])\n",
    "    x, y, w, h = cv2.boundingRect(ct_list)\n",
    "    cropped_image = image[y:y+h, x:x+w]\n",
    "\n",
    "    return green_area, cropped_image"
   ]
  },
  {
   "cell_type": "code",
   "execution_count": 740,
   "metadata": {},
   "outputs": [
    {
     "name": "stdout",
     "output_type": "stream",
     "text": [
      "1\n",
      "9\n",
      "7\n",
      "5\n",
      "1\n",
      "199\n",
      "4\n",
      "4\n",
      "2\n",
      "1\n",
      "2\n",
      "2\n",
      "2\n",
      "151\n",
      "2\n",
      "1\n",
      "2\n",
      "2\n",
      "2\n",
      "2\n",
      "2\n",
      "186\n",
      "1\n",
      "4\n",
      "1\n",
      "1\n",
      "1\n"
     ]
    },
    {
     "data": {
      "text/plain": [
       "True"
      ]
     },
     "execution_count": 740,
     "metadata": {},
     "output_type": "execute_result"
    }
   ],
   "source": [
    "image_path = 'F001-0002.jpg'\n",
    "# image_path = 'F001-0010.jpg'\n",
    "# image_path = 'F001-0017.jpg'\n",
    "# image_path = 'F001-0013.jpg'\n",
    "\n",
    "# image_path = 'F002-0009.jpg'\n",
    "\n",
    "image = cv2.imread(image_path)\n",
    "\n",
    "# Green - 초록색 범위 설정 (HSV 색 공간에서의 값)\n",
    "# lower_green = np.array([40, 50, 140])\n",
    "# upper_green = np.array([80, 255, 255])\n",
    "# lower_green = np.array([35, 120, 160])\n",
    "# upper_green = np.array([85, 255, 255])\n",
    "# lower_green = np.array([30, 50, 130])\n",
    "# upper_green = np.array([90, 255, 255])\n",
    "\n",
    "lower_green = np.array([30, 40, 130])\n",
    "upper_green = np.array([90, 255, 255])\n",
    "\n",
    "# RGB Version\n",
    "# lower_green = np.array([30, 150, 40])\n",
    "# upper_green = np.array([150, 255, 150])\n",
    "# green_color = [lower_green, upper_green]\n",
    "\n",
    "# Blue\n",
    "lower_blue = np.array([100, 50, 50])\n",
    "upper_blue = np.array([130, 255, 255])\n",
    "green_color = [lower_blue, upper_blue]\n",
    "# rgba(79,182,90,255)\n",
    "# rgba(43,161,52,255)\n",
    "green_area, cropped_image = find_green_boxes(image, green_color)\n",
    "\n",
    "output_path = 'green_image.jpg'\n",
    "cv2.imwrite(output_path, green_area)\n",
    "output_path = 'cropped_image.jpg'\n",
    "cv2.imwrite(output_path, cropped_image)"
   ]
  },
  {
   "cell_type": "code",
   "execution_count": 741,
   "metadata": {},
   "outputs": [],
   "source": [
    "def fill_red_boxes(image, color, color2=None):\n",
    "    # 이미지를 HSV 색 공간으로 변환\n",
    "    hsv = cv2.cvtColor(image, cv2.COLOR_BGR2HSV)\n",
    "\n",
    "    lower_color = color[0]\n",
    "    upper_color = color[1]\n",
    "\n",
    "    # 색 경계를 찾기 위한 마스크 생성\n",
    "    if color2:\n",
    "        lower_color2 = color2[0]\n",
    "        upper_color2 = color2[1]\n",
    "\n",
    "        mask1 = cv2.inRange(hsv, lower_color, upper_color)\n",
    "        mask2 = cv2.inRange(hsv, lower_color2, upper_color2)\n",
    "        mask = cv2.bitwise_or(mask1, mask2)\n",
    "    else:\n",
    "        mask = cv2.inRange(hsv, lower_color, upper_color)\n",
    "\n",
    "    # 마스크를 이용하여 색 영역 추출\n",
    "    red_area = cv2.bitwise_and(image, image, mask=mask)\n",
    "\n",
    "    # 색 영역의 경계 좌표를 찾음\n",
    "    contours, _ = cv2.findContours(mask, cv2.RETR_EXTERNAL, cv2.CHAIN_APPROX_SIMPLE)\n",
    "\n",
    "    filled_image = np.zeros_like(image)\n",
    "\n",
    "    for contour in contours:\n",
    "        hull = cv2.convexHull(contour)\n",
    "        cv2.drawContours(image, [hull], 0, (0, 0, 255), -1)\n",
    "\n",
    "    image[np.where((image != [0, 0, 255]).all(axis=2))] = [0, 0, 0]\n",
    "\n",
    "    return red_area, image"
   ]
  },
  {
   "cell_type": "code",
   "execution_count": 742,
   "metadata": {},
   "outputs": [
    {
     "data": {
      "text/plain": [
       "True"
      ]
     },
     "execution_count": 742,
     "metadata": {},
     "output_type": "execute_result"
    }
   ],
   "source": [
    "image_path = 'cropped_image.jpg'\n",
    "image = cv2.imread(image_path)\n",
    "\n",
    "# Red\n",
    "# lower_red1 = np.array([0, 20, 20])\n",
    "# upper_red1 = np.array([20, 255, 255])\n",
    "# lower_red2 = np.array([140, 20, 20])\n",
    "# upper_red2 = np.array([255, 255, 255])\n",
    "lower_red1 = np.array([0, 0, 0])\n",
    "upper_red1 = np.array([35, 255, 255])\n",
    "lower_red2 = np.array([130, 30, 30])\n",
    "upper_red2 = np.array([170, 255, 255])\n",
    "red_color1 = [lower_red1, upper_red1]\n",
    "red_color2 = [lower_red2, upper_red2]\n",
    "\n",
    "red_area, fill_image = fill_red_boxes(image, red_color1, red_color2)\n",
    "# red_area, cropped_image = find_green_boxes(image, red_color1)\n",
    "# red_area, cropped_image = find_green_boxes(image, red_color2)\n",
    "\n",
    "output_path = 'red_image.jpg'\n",
    "cv2.imwrite(output_path, red_area)\n",
    "output_path = 'fill_image.jpg'\n",
    "cv2.imwrite(output_path, fill_image)"
   ]
  },
  {
   "cell_type": "code",
   "execution_count": 743,
   "metadata": {},
   "outputs": [
    {
     "data": {
      "text/plain": [
       "True"
      ]
     },
     "execution_count": 743,
     "metadata": {},
     "output_type": "execute_result"
    }
   ],
   "source": [
    "import cv2\n",
    "\n",
    "# 이미지 로드\n",
    "image = cv2.imread('F001-0010.jpg', 0)  # 그레이스케일로 이미지 로드\n",
    "\n",
    "# Find Edges 필터 적용\n",
    "edges = cv2.Canny(image, 150, 250)\n",
    "\n",
    "output_path = 'edges_image.jpg'\n",
    "cv2.imwrite(output_path, edges)"
   ]
  }
 ],
 "metadata": {
  "kernelspec": {
   "display_name": "lab",
   "language": "python",
   "name": "python3"
  },
  "language_info": {
   "codemirror_mode": {
    "name": "ipython",
    "version": 3
   },
   "file_extension": ".py",
   "mimetype": "text/x-python",
   "name": "python",
   "nbconvert_exporter": "python",
   "pygments_lexer": "ipython3",
   "version": "3.10.6"
  },
  "orig_nbformat": 4
 },
 "nbformat": 4,
 "nbformat_minor": 2
}
